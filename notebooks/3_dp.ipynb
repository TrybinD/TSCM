{
 "cells": [
  {
   "cell_type": "code",
   "execution_count": 1,
   "metadata": {},
   "outputs": [],
   "source": [
    "import pandas as pd\n",
    "from time import time\n",
    "\n",
    "from src.data.problem import Problem\n",
    "\n",
    "from src.solvers.dp_solver import DPSolver\n",
    "\n",
    "from src.utils import calculate_costs"
   ]
  },
  {
   "cell_type": "code",
   "execution_count": 2,
   "metadata": {},
   "outputs": [],
   "source": [
    "example_problem = Problem.from_example()"
   ]
  },
  {
   "cell_type": "code",
   "execution_count": 3,
   "metadata": {},
   "outputs": [],
   "source": [
    "dataset_data_params = [(1, 5, 10, 10), (2, 5, 10, 10), (3, 5, 10, 10), \n",
    "                       (1, 5, 5, 5), (2, 5, 5, 5), (3, 5, 5, 5),\n",
    "                       (1, 10, 10, 10), (2, 10, 10, 10), (3, 10, 10, 10), \n",
    "                       (1, 5, 10, 20), (2, 5, 10, 20), (3, 5, 10, 20), \n",
    "                       (1, 5, 20, 10), (2, 5, 20, 10), (3, 5, 20, 10), \n",
    "                       (1, 5, 20, 20), (2, 5, 20, 20), (3, 5, 20, 20)]"
   ]
  },
  {
   "cell_type": "markdown",
   "metadata": {},
   "source": [
    "### Dynamic programming"
   ]
  },
  {
   "cell_type": "markdown",
   "metadata": {},
   "source": [
    "I tried to solve the problem using dynamic programming using the following formulation:\n",
    "\n",
    "$costs[i, m]$ - optimal cost to finish operation if we start $i$-th sub-operation in $m$-th city\n",
    "\n",
    "for the last sub-operation:\n",
    "\n",
    "$$\n",
    "costs[i_{last}, m] = os_{i_{last}, m}\n",
    "$$\n",
    "\n",
    "for all other sub-operations:\n",
    "\n",
    "$$\n",
    "costs[i, m] = \\min_{m' \\in M}{(os_{i, m} + ls_{m, m'} + costs[i+1, m'])}\n",
    "$$\n",
    "\n",
    "Complexity: $O(IKM^2)$"
   ]
  },
  {
   "cell_type": "code",
   "execution_count": 4,
   "metadata": {},
   "outputs": [
    {
     "data": {
      "text/plain": [
       "({'Operation1': {'Subtask1': 'Erfurt',\n",
       "   'Subtask2': 'Erfurt',\n",
       "   'Subtask4': 'Frankfurt',\n",
       "   'Subtask5': 'Hamburg',\n",
       "   'Subtask6': 'Berlin',\n",
       "   'Subtask8': 'Erfurt',\n",
       "   'Subtask9': 'Erfurt',\n",
       "   'Subtask10': 'Bremen'},\n",
       "  'Operation2': {'Subtask1': 'Hannover',\n",
       "   'Subtask3': 'Dresden',\n",
       "   'Subtask4': 'Frankfurt',\n",
       "   'Subtask6': 'Berlin',\n",
       "   'Subtask7': 'Hannover',\n",
       "   'Subtask9': 'Dusseldorf',\n",
       "   'Subtask10': 'Bremen'},\n",
       "  'Operation3': {'Subtask1': 'Hannover',\n",
       "   'Subtask4': 'Bremen',\n",
       "   'Subtask5': 'Hamburg',\n",
       "   'Subtask6': 'Berlin',\n",
       "   'Subtask7': 'Hannover',\n",
       "   'Subtask8': 'Erfurt',\n",
       "   'Subtask10': 'Bremen'},\n",
       "  'Operation4': {'Subtask1': 'Hannover',\n",
       "   'Subtask2': 'Dresden',\n",
       "   'Subtask3': 'Dresden',\n",
       "   'Subtask4': 'Frankfurt',\n",
       "   'Subtask8': 'Erfurt',\n",
       "   'Subtask9': 'Erfurt',\n",
       "   'Subtask10': 'Bremen'},\n",
       "  'Operation5': {'Subtask1': 'Hannover',\n",
       "   'Subtask2': 'Dresden',\n",
       "   'Subtask3': 'Dresden',\n",
       "   'Subtask4': 'Frankfurt',\n",
       "   'Subtask5': 'Hamburg',\n",
       "   'Subtask6': 'Berlin',\n",
       "   'Subtask7': 'Hannover',\n",
       "   'Subtask8': 'Erfurt',\n",
       "   'Subtask9': 'Erfurt',\n",
       "   'Subtask10': 'Bremen'}},\n",
       " 0.007133007049560547)"
      ]
     },
     "execution_count": 4,
     "metadata": {},
     "output_type": "execute_result"
    }
   ],
   "source": [
    "dp_solver = DPSolver()\n",
    "start = time()\n",
    "solution = dp_solver.solve(example_problem)\n",
    "run_time = time() - start\n",
    "solution, run_time"
   ]
  },
  {
   "cell_type": "code",
   "execution_count": 5,
   "metadata": {},
   "outputs": [
    {
     "data": {
      "text/plain": [
       "np.float64(8253.642421344399)"
      ]
     },
     "execution_count": 5,
     "metadata": {},
     "output_type": "execute_result"
    }
   ],
   "source": [
    "calculate_costs(example_problem, solution)"
   ]
  },
  {
   "cell_type": "code",
   "execution_count": 6,
   "metadata": {},
   "outputs": [],
   "source": [
    "solutions = {\"example\": {\"cost\": calculate_costs(example_problem, solution), \"solution\": solution, \"time\": run_time}}"
   ]
  },
  {
   "cell_type": "code",
   "execution_count": 7,
   "metadata": {},
   "outputs": [
    {
     "name": "stdout",
     "output_type": "stream",
     "text": [
      "operations-5,sub_operations-10,cities-10-1\n",
      "operations-5,sub_operations-10,cities-10-2\n",
      "operations-5,sub_operations-10,cities-10-3\n",
      "operations-5,sub_operations-5,cities-5-1\n",
      "operations-5,sub_operations-5,cities-5-2\n",
      "operations-5,sub_operations-5,cities-5-3\n",
      "operations-10,sub_operations-10,cities-10-1\n",
      "operations-10,sub_operations-10,cities-10-2\n",
      "operations-10,sub_operations-10,cities-10-3\n",
      "operations-5,sub_operations-10,cities-20-1\n",
      "operations-5,sub_operations-10,cities-20-2\n",
      "operations-5,sub_operations-10,cities-20-3\n",
      "operations-5,sub_operations-20,cities-10-1\n",
      "operations-5,sub_operations-20,cities-10-2\n",
      "operations-5,sub_operations-20,cities-10-3\n",
      "operations-5,sub_operations-20,cities-20-1\n",
      "operations-5,sub_operations-20,cities-20-2\n",
      "operations-5,sub_operations-20,cities-20-3\n"
     ]
    }
   ],
   "source": [
    "for param in dataset_data_params:\n",
    "    number, operations, sub_operations, cities = param\n",
    "    print(f\"operations-{operations},sub_operations-{sub_operations},cities-{cities}-{number}\")\n",
    "    p = Problem.from_dataset(number, operations, sub_operations, cities)\n",
    "    start = time()\n",
    "    solution = dp_solver.solve(p)\n",
    "    run_time = time() - start\n",
    "\n",
    "    solutions[f\"{operations},{sub_operations},{cities}-{number}\"] = {\"cost\": calculate_costs(p, solution), \n",
    "                                                                     \"solution\": solution, \n",
    "                                                                     \"time\": run_time}"
   ]
  },
  {
   "cell_type": "code",
   "execution_count": 8,
   "metadata": {},
   "outputs": [
    {
     "data": {
      "text/html": [
       "<div>\n",
       "<style scoped>\n",
       "    .dataframe tbody tr th:only-of-type {\n",
       "        vertical-align: middle;\n",
       "    }\n",
       "\n",
       "    .dataframe tbody tr th {\n",
       "        vertical-align: top;\n",
       "    }\n",
       "\n",
       "    .dataframe thead th {\n",
       "        text-align: right;\n",
       "    }\n",
       "</style>\n",
       "<table border=\"1\" class=\"dataframe\">\n",
       "  <thead>\n",
       "    <tr style=\"text-align: right;\">\n",
       "      <th></th>\n",
       "      <th>cost</th>\n",
       "      <th>solution</th>\n",
       "      <th>time</th>\n",
       "    </tr>\n",
       "  </thead>\n",
       "  <tbody>\n",
       "    <tr>\n",
       "      <th>example</th>\n",
       "      <td>8253.642421</td>\n",
       "      <td>{'Operation1': {'Subtask1': 'Erfurt', 'Subtask...</td>\n",
       "      <td>0.007133</td>\n",
       "    </tr>\n",
       "    <tr>\n",
       "      <th>5,10,10-1</th>\n",
       "      <td>5086.083142</td>\n",
       "      <td>{'Operation1': {'Sub-operation3': 'city1', 'Su...</td>\n",
       "      <td>0.002311</td>\n",
       "    </tr>\n",
       "    <tr>\n",
       "      <th>5,10,10-2</th>\n",
       "      <td>7352.656259</td>\n",
       "      <td>{'Operation1': {'Sub-operation1': 'city9', 'Su...</td>\n",
       "      <td>0.002635</td>\n",
       "    </tr>\n",
       "    <tr>\n",
       "      <th>5,10,10-3</th>\n",
       "      <td>7652.315227</td>\n",
       "      <td>{'Operation1': {'Sub-operation1': 'city4', 'Su...</td>\n",
       "      <td>0.00323</td>\n",
       "    </tr>\n",
       "    <tr>\n",
       "      <th>5,5,5-1</th>\n",
       "      <td>2648.629467</td>\n",
       "      <td>{'Operation1': {'Sub-operation3': 'city1', 'Su...</td>\n",
       "      <td>0.001028</td>\n",
       "    </tr>\n",
       "    <tr>\n",
       "      <th>5,5,5-2</th>\n",
       "      <td>5944.423926</td>\n",
       "      <td>{'Operation1': {'Sub-operation1': 'city4', 'Su...</td>\n",
       "      <td>0.001911</td>\n",
       "    </tr>\n",
       "    <tr>\n",
       "      <th>5,5,5-3</th>\n",
       "      <td>6653.881317</td>\n",
       "      <td>{'Operation1': {'Sub-operation1': 'city4', 'Su...</td>\n",
       "      <td>0.00124</td>\n",
       "    </tr>\n",
       "    <tr>\n",
       "      <th>10,10,10-1</th>\n",
       "      <td>12221.755638</td>\n",
       "      <td>{'Operation1': {'Sub-operation3': 'city1', 'Su...</td>\n",
       "      <td>0.004991</td>\n",
       "    </tr>\n",
       "    <tr>\n",
       "      <th>10,10,10-2</th>\n",
       "      <td>14275.526163</td>\n",
       "      <td>{'Operation1': {'Sub-operation1': 'city9', 'Su...</td>\n",
       "      <td>0.005723</td>\n",
       "    </tr>\n",
       "    <tr>\n",
       "      <th>10,10,10-3</th>\n",
       "      <td>14200.754292</td>\n",
       "      <td>{'Operation1': {'Sub-operation1': 'city4', 'Su...</td>\n",
       "      <td>0.007366</td>\n",
       "    </tr>\n",
       "    <tr>\n",
       "      <th>5,10,20-1</th>\n",
       "      <td>4252.038054</td>\n",
       "      <td>{'Operation1': {'Sub-operation3': 'city1', 'Su...</td>\n",
       "      <td>0.00642</td>\n",
       "    </tr>\n",
       "    <tr>\n",
       "      <th>5,10,20-2</th>\n",
       "      <td>5497.293768</td>\n",
       "      <td>{'Operation1': {'Sub-operation1': 'city11', 'S...</td>\n",
       "      <td>0.007475</td>\n",
       "    </tr>\n",
       "    <tr>\n",
       "      <th>5,10,20-3</th>\n",
       "      <td>5866.17632</td>\n",
       "      <td>{'Operation1': {'Sub-operation1': 'city11', 'S...</td>\n",
       "      <td>0.008587</td>\n",
       "    </tr>\n",
       "    <tr>\n",
       "      <th>5,20,10-1</th>\n",
       "      <td>13512.960159</td>\n",
       "      <td>{'Operation1': {'Sub-operation3': 'city1', 'Su...</td>\n",
       "      <td>0.004576</td>\n",
       "    </tr>\n",
       "    <tr>\n",
       "      <th>5,20,10-2</th>\n",
       "      <td>15803.260063</td>\n",
       "      <td>{'Operation1': {'Sub-operation1': 'city7', 'Su...</td>\n",
       "      <td>0.006108</td>\n",
       "    </tr>\n",
       "    <tr>\n",
       "      <th>5,20,10-3</th>\n",
       "      <td>16703.557919</td>\n",
       "      <td>{'Operation1': {'Sub-operation1': 'city7', 'Su...</td>\n",
       "      <td>0.005569</td>\n",
       "    </tr>\n",
       "    <tr>\n",
       "      <th>5,20,20-1</th>\n",
       "      <td>11392.82206</td>\n",
       "      <td>{'Operation1': {'Sub-operation3': 'city1', 'Su...</td>\n",
       "      <td>0.015697</td>\n",
       "    </tr>\n",
       "    <tr>\n",
       "      <th>5,20,20-2</th>\n",
       "      <td>13045.156239</td>\n",
       "      <td>{'Operation1': {'Sub-operation1': 'city16', 'S...</td>\n",
       "      <td>0.016489</td>\n",
       "    </tr>\n",
       "    <tr>\n",
       "      <th>5,20,20-3</th>\n",
       "      <td>14366.020049</td>\n",
       "      <td>{'Operation1': {'Sub-operation1': 'city14', 'S...</td>\n",
       "      <td>0.015833</td>\n",
       "    </tr>\n",
       "  </tbody>\n",
       "</table>\n",
       "</div>"
      ],
      "text/plain": [
       "                    cost                                           solution  \\\n",
       "example      8253.642421  {'Operation1': {'Subtask1': 'Erfurt', 'Subtask...   \n",
       "5,10,10-1    5086.083142  {'Operation1': {'Sub-operation3': 'city1', 'Su...   \n",
       "5,10,10-2    7352.656259  {'Operation1': {'Sub-operation1': 'city9', 'Su...   \n",
       "5,10,10-3    7652.315227  {'Operation1': {'Sub-operation1': 'city4', 'Su...   \n",
       "5,5,5-1      2648.629467  {'Operation1': {'Sub-operation3': 'city1', 'Su...   \n",
       "5,5,5-2      5944.423926  {'Operation1': {'Sub-operation1': 'city4', 'Su...   \n",
       "5,5,5-3      6653.881317  {'Operation1': {'Sub-operation1': 'city4', 'Su...   \n",
       "10,10,10-1  12221.755638  {'Operation1': {'Sub-operation3': 'city1', 'Su...   \n",
       "10,10,10-2  14275.526163  {'Operation1': {'Sub-operation1': 'city9', 'Su...   \n",
       "10,10,10-3  14200.754292  {'Operation1': {'Sub-operation1': 'city4', 'Su...   \n",
       "5,10,20-1    4252.038054  {'Operation1': {'Sub-operation3': 'city1', 'Su...   \n",
       "5,10,20-2    5497.293768  {'Operation1': {'Sub-operation1': 'city11', 'S...   \n",
       "5,10,20-3     5866.17632  {'Operation1': {'Sub-operation1': 'city11', 'S...   \n",
       "5,20,10-1   13512.960159  {'Operation1': {'Sub-operation3': 'city1', 'Su...   \n",
       "5,20,10-2   15803.260063  {'Operation1': {'Sub-operation1': 'city7', 'Su...   \n",
       "5,20,10-3   16703.557919  {'Operation1': {'Sub-operation1': 'city7', 'Su...   \n",
       "5,20,20-1    11392.82206  {'Operation1': {'Sub-operation3': 'city1', 'Su...   \n",
       "5,20,20-2   13045.156239  {'Operation1': {'Sub-operation1': 'city16', 'S...   \n",
       "5,20,20-3   14366.020049  {'Operation1': {'Sub-operation1': 'city14', 'S...   \n",
       "\n",
       "                time  \n",
       "example     0.007133  \n",
       "5,10,10-1   0.002311  \n",
       "5,10,10-2   0.002635  \n",
       "5,10,10-3    0.00323  \n",
       "5,5,5-1     0.001028  \n",
       "5,5,5-2     0.001911  \n",
       "5,5,5-3      0.00124  \n",
       "10,10,10-1  0.004991  \n",
       "10,10,10-2  0.005723  \n",
       "10,10,10-3  0.007366  \n",
       "5,10,20-1    0.00642  \n",
       "5,10,20-2   0.007475  \n",
       "5,10,20-3   0.008587  \n",
       "5,20,10-1   0.004576  \n",
       "5,20,10-2   0.006108  \n",
       "5,20,10-3   0.005569  \n",
       "5,20,20-1   0.015697  \n",
       "5,20,20-2   0.016489  \n",
       "5,20,20-3   0.015833  "
      ]
     },
     "execution_count": 8,
     "metadata": {},
     "output_type": "execute_result"
    }
   ],
   "source": [
    "df_result = pd.DataFrame(solutions).T\n",
    "df_result"
   ]
  },
  {
   "cell_type": "code",
   "execution_count": 9,
   "metadata": {},
   "outputs": [],
   "source": [
    "df_result.to_csv(\"../data/solutions/dp.csv\", index=True)"
   ]
  },
  {
   "cell_type": "code",
   "execution_count": null,
   "metadata": {},
   "outputs": [],
   "source": []
  }
 ],
 "metadata": {
  "kernelspec": {
   "display_name": ".venv",
   "language": "python",
   "name": "python3"
  },
  "language_info": {
   "codemirror_mode": {
    "name": "ipython",
    "version": 3
   },
   "file_extension": ".py",
   "mimetype": "text/x-python",
   "name": "python",
   "nbconvert_exporter": "python",
   "pygments_lexer": "ipython3",
   "version": "3.10.12"
  }
 },
 "nbformat": 4,
 "nbformat_minor": 2
}
