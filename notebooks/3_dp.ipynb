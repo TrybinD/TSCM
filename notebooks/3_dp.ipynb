{
 "cells": [
  {
   "cell_type": "code",
   "execution_count": 1,
   "metadata": {},
   "outputs": [],
   "source": [
    "import pandas as pd\n",
    "from time import time\n",
    "\n",
    "from src.data.problem import Problem\n",
    "\n",
    "from src.solvers.dp_solver import DPSolver\n",
    "\n",
    "from src.utils import calculate_costs"
   ]
  },
  {
   "cell_type": "code",
   "execution_count": 2,
   "metadata": {},
   "outputs": [],
   "source": [
    "example_problem = Problem.from_example()"
   ]
  },
  {
   "cell_type": "code",
   "execution_count": 3,
   "metadata": {},
   "outputs": [],
   "source": [
    "dataset_data_params = [(1, 5, 10, 10), (2, 5, 10, 10), (3, 5, 10, 10), \n",
    "                       (1, 5, 5, 5), (2, 5, 5, 5), (3, 5, 5, 5),\n",
    "                       (1, 10, 10, 10), (2, 10, 10, 10), (3, 10, 10, 10), \n",
    "                       (1, 5, 10, 20), (2, 5, 10, 20), (3, 5, 10, 20), \n",
    "                       (1, 5, 20, 10), (2, 5, 20, 10), (3, 5, 20, 10), \n",
    "                       (1, 5, 20, 20), (2, 5, 20, 20), (3, 5, 20, 20)]"
   ]
  },
  {
   "cell_type": "markdown",
   "metadata": {},
   "source": [
    "### Dynamic programming"
   ]
  },
  {
   "cell_type": "markdown",
   "metadata": {},
   "source": [
    "I tried to solve the problem using dynamic programming using the following formulation:\n",
    "\n",
    "$costs[i, m]$ - optimal cost to finish operation if we start $i$-th sub-operation in $m$-th city\n",
    "\n",
    "for the last sub-operation:\n",
    "\n",
    "$$\n",
    "costs[i_{last}, m] = os_{i_{last}, m}\n",
    "$$\n",
    "\n",
    "for all other sub-operations:\n",
    "\n",
    "$$\n",
    "costs[i, m] = \\min_{m' \\in M}{(os_{i, m} + ls_{m, m'} + costs[i+1, m'])}\n",
    "$$\n",
    "\n",
    "Complexity: $O(IKM^2)$"
   ]
  },
  {
   "cell_type": "code",
   "execution_count": 4,
   "metadata": {},
   "outputs": [
    {
     "data": {
      "text/plain": [
       "({'Operation1': {'Subtask1': 'Erfurt',\n",
       "   'Subtask2': 'Erfurt',\n",
       "   'Subtask4': 'Frankfurt',\n",
       "   'Subtask5': 'Hamburg',\n",
       "   'Subtask6': 'Berlin',\n",
       "   'Subtask8': 'Erfurt',\n",
       "   'Subtask9': 'Erfurt',\n",
       "   'Subtask10': 'Bremen'},\n",
       "  'Operation2': {'Subtask1': 'Hannover',\n",
       "   'Subtask3': 'Dresden',\n",
       "   'Subtask4': 'Frankfurt',\n",
       "   'Subtask6': 'Berlin',\n",
       "   'Subtask7': 'Hannover',\n",
       "   'Subtask9': 'Dusseldorf',\n",
       "   'Subtask10': 'Bremen'},\n",
       "  'Operation3': {'Subtask1': 'Hannover',\n",
       "   'Subtask4': 'Bremen',\n",
       "   'Subtask5': 'Hamburg',\n",
       "   'Subtask6': 'Berlin',\n",
       "   'Subtask7': 'Hannover',\n",
       "   'Subtask8': 'Erfurt',\n",
       "   'Subtask10': 'Bremen'},\n",
       "  'Operation4': {'Subtask1': 'Hannover',\n",
       "   'Subtask2': 'Dresden',\n",
       "   'Subtask3': 'Dresden',\n",
       "   'Subtask4': 'Frankfurt',\n",
       "   'Subtask8': 'Erfurt',\n",
       "   'Subtask9': 'Erfurt',\n",
       "   'Subtask10': 'Bremen'},\n",
       "  'Operation5': {'Subtask1': 'Hannover',\n",
       "   'Subtask2': 'Dresden',\n",
       "   'Subtask3': 'Dresden',\n",
       "   'Subtask4': 'Frankfurt',\n",
       "   'Subtask5': 'Hamburg',\n",
       "   'Subtask6': 'Berlin',\n",
       "   'Subtask7': 'Hannover',\n",
       "   'Subtask8': 'Erfurt',\n",
       "   'Subtask9': 'Erfurt',\n",
       "   'Subtask10': 'Bremen'}},\n",
       " 0.005385875701904297)"
      ]
     },
     "execution_count": 4,
     "metadata": {},
     "output_type": "execute_result"
    }
   ],
   "source": [
    "dp_solver = DPSolver()\n",
    "start = time()\n",
    "solution = dp_solver.solve(example_problem)\n",
    "run_time = time() - start\n",
    "solution, run_time"
   ]
  },
  {
   "cell_type": "code",
   "execution_count": 5,
   "metadata": {},
   "outputs": [
    {
     "data": {
      "text/plain": [
       "np.float64(8253.642421344399)"
      ]
     },
     "execution_count": 5,
     "metadata": {},
     "output_type": "execute_result"
    }
   ],
   "source": [
    "calculate_costs(example_problem, solution)"
   ]
  },
  {
   "cell_type": "code",
   "execution_count": 6,
   "metadata": {},
   "outputs": [],
   "source": [
    "solutions = {\"example\": {\"cost\": calculate_costs(example_problem, solution), \"solution\": solution, \"time\": run_time}}"
   ]
  },
  {
   "cell_type": "code",
   "execution_count": 7,
   "metadata": {},
   "outputs": [
    {
     "name": "stdout",
     "output_type": "stream",
     "text": [
      "operations-5,sub_operations-10,cities-10-1\n",
      "operations-5,sub_operations-10,cities-10-2\n",
      "operations-5,sub_operations-10,cities-10-3\n",
      "operations-5,sub_operations-5,cities-5-1\n",
      "operations-5,sub_operations-5,cities-5-2\n",
      "operations-5,sub_operations-5,cities-5-3\n",
      "operations-10,sub_operations-10,cities-10-1\n",
      "operations-10,sub_operations-10,cities-10-2\n",
      "operations-10,sub_operations-10,cities-10-3\n",
      "operations-5,sub_operations-10,cities-20-1\n",
      "operations-5,sub_operations-10,cities-20-2\n",
      "operations-5,sub_operations-10,cities-20-3\n",
      "operations-5,sub_operations-20,cities-10-1\n",
      "operations-5,sub_operations-20,cities-10-2\n",
      "operations-5,sub_operations-20,cities-10-3\n",
      "operations-5,sub_operations-20,cities-20-1\n",
      "operations-5,sub_operations-20,cities-20-2\n",
      "operations-5,sub_operations-20,cities-20-3\n"
     ]
    }
   ],
   "source": [
    "for param in dataset_data_params:\n",
    "    number, operations, sub_operations, cities = param\n",
    "    print(f\"operations-{operations},sub_operations-{sub_operations},cities-{cities}-{number}\")\n",
    "    p = Problem.from_dataset(number, operations, sub_operations, cities)\n",
    "    start = time()\n",
    "    solution = dp_solver.solve(p)\n",
    "    run_time = time() - start\n",
    "\n",
    "    solutions[f\"{operations},{sub_operations},{cities}-{number}\"] = {\"cost\": calculate_costs(p, solution), \n",
    "                                                                     \"solution\": solution, \n",
    "                                                                     \"time\": run_time}"
   ]
  },
  {
   "cell_type": "code",
   "execution_count": 8,
   "metadata": {},
   "outputs": [
    {
     "data": {
      "text/html": [
       "<div>\n",
       "<style scoped>\n",
       "    .dataframe tbody tr th:only-of-type {\n",
       "        vertical-align: middle;\n",
       "    }\n",
       "\n",
       "    .dataframe tbody tr th {\n",
       "        vertical-align: top;\n",
       "    }\n",
       "\n",
       "    .dataframe thead th {\n",
       "        text-align: right;\n",
       "    }\n",
       "</style>\n",
       "<table border=\"1\" class=\"dataframe\">\n",
       "  <thead>\n",
       "    <tr style=\"text-align: right;\">\n",
       "      <th></th>\n",
       "      <th>cost</th>\n",
       "      <th>solution</th>\n",
       "      <th>time</th>\n",
       "    </tr>\n",
       "  </thead>\n",
       "  <tbody>\n",
       "    <tr>\n",
       "      <th>example</th>\n",
       "      <td>8253.642421</td>\n",
       "      <td>{'Operation1': {'Subtask1': 'Erfurt', 'Subtask...</td>\n",
       "      <td>0.005386</td>\n",
       "    </tr>\n",
       "    <tr>\n",
       "      <th>5,10,10-1</th>\n",
       "      <td>4131.125634</td>\n",
       "      <td>{'Operation1': {'Sub-operation3': 'city1', 'Su...</td>\n",
       "      <td>0.002185</td>\n",
       "    </tr>\n",
       "    <tr>\n",
       "      <th>5,10,10-2</th>\n",
       "      <td>5503.321218</td>\n",
       "      <td>{'Operation1': {'Sub-operation1': 'city2', 'Su...</td>\n",
       "      <td>0.002676</td>\n",
       "    </tr>\n",
       "    <tr>\n",
       "      <th>5,10,10-3</th>\n",
       "      <td>5849.87106</td>\n",
       "      <td>{'Operation1': {'Sub-operation1': 'city2', 'Su...</td>\n",
       "      <td>0.003134</td>\n",
       "    </tr>\n",
       "    <tr>\n",
       "      <th>5,5,5-1</th>\n",
       "      <td>2576.598208</td>\n",
       "      <td>{'Operation1': {'Sub-operation3': 'city1', 'Su...</td>\n",
       "      <td>0.000993</td>\n",
       "    </tr>\n",
       "    <tr>\n",
       "      <th>5,5,5-2</th>\n",
       "      <td>5425.946189</td>\n",
       "      <td>{'Operation1': {'Sub-operation1': 'city4', 'Su...</td>\n",
       "      <td>0.00199</td>\n",
       "    </tr>\n",
       "    <tr>\n",
       "      <th>5,5,5-3</th>\n",
       "      <td>6149.624015</td>\n",
       "      <td>{'Operation1': {'Sub-operation1': 'city4', 'Su...</td>\n",
       "      <td>0.001098</td>\n",
       "    </tr>\n",
       "    <tr>\n",
       "      <th>10,10,10-1</th>\n",
       "      <td>9761.358987</td>\n",
       "      <td>{'Operation1': {'Sub-operation3': 'city1', 'Su...</td>\n",
       "      <td>0.005155</td>\n",
       "    </tr>\n",
       "    <tr>\n",
       "      <th>10,10,10-2</th>\n",
       "      <td>10921.079954</td>\n",
       "      <td>{'Operation1': {'Sub-operation1': 'city2', 'Su...</td>\n",
       "      <td>0.005167</td>\n",
       "    </tr>\n",
       "    <tr>\n",
       "      <th>10,10,10-3</th>\n",
       "      <td>11187.172451</td>\n",
       "      <td>{'Operation1': {'Sub-operation1': 'city2', 'Su...</td>\n",
       "      <td>0.005743</td>\n",
       "    </tr>\n",
       "    <tr>\n",
       "      <th>5,10,20-1</th>\n",
       "      <td>3548.963825</td>\n",
       "      <td>{'Operation1': {'Sub-operation3': 'city1', 'Su...</td>\n",
       "      <td>0.00494</td>\n",
       "    </tr>\n",
       "    <tr>\n",
       "      <th>5,10,20-2</th>\n",
       "      <td>4524.805988</td>\n",
       "      <td>{'Operation1': {'Sub-operation1': 'city13', 'S...</td>\n",
       "      <td>0.006967</td>\n",
       "    </tr>\n",
       "    <tr>\n",
       "      <th>5,10,20-3</th>\n",
       "      <td>4955.329235</td>\n",
       "      <td>{'Operation1': {'Sub-operation1': 'city11', 'S...</td>\n",
       "      <td>0.007686</td>\n",
       "    </tr>\n",
       "    <tr>\n",
       "      <th>5,20,10-1</th>\n",
       "      <td>10687.468451</td>\n",
       "      <td>{'Operation1': {'Sub-operation3': 'city7', 'Su...</td>\n",
       "      <td>0.004654</td>\n",
       "    </tr>\n",
       "    <tr>\n",
       "      <th>5,20,10-2</th>\n",
       "      <td>12147.769571</td>\n",
       "      <td>{'Operation1': {'Sub-operation1': 'city7', 'Su...</td>\n",
       "      <td>0.004862</td>\n",
       "    </tr>\n",
       "    <tr>\n",
       "      <th>5,20,10-3</th>\n",
       "      <td>12960.070144</td>\n",
       "      <td>{'Operation1': {'Sub-operation1': 'city7', 'Su...</td>\n",
       "      <td>0.005181</td>\n",
       "    </tr>\n",
       "    <tr>\n",
       "      <th>5,20,20-1</th>\n",
       "      <td>9059.334441</td>\n",
       "      <td>{'Operation1': {'Sub-operation3': 'city1', 'Su...</td>\n",
       "      <td>0.011303</td>\n",
       "    </tr>\n",
       "    <tr>\n",
       "      <th>5,20,20-2</th>\n",
       "      <td>10438.297954</td>\n",
       "      <td>{'Operation1': {'Sub-operation1': 'city16', 'S...</td>\n",
       "      <td>0.013617</td>\n",
       "    </tr>\n",
       "    <tr>\n",
       "      <th>5,20,20-3</th>\n",
       "      <td>11396.639606</td>\n",
       "      <td>{'Operation1': {'Sub-operation1': 'city15', 'S...</td>\n",
       "      <td>0.014707</td>\n",
       "    </tr>\n",
       "  </tbody>\n",
       "</table>\n",
       "</div>"
      ],
      "text/plain": [
       "                    cost                                           solution  \\\n",
       "example      8253.642421  {'Operation1': {'Subtask1': 'Erfurt', 'Subtask...   \n",
       "5,10,10-1    4131.125634  {'Operation1': {'Sub-operation3': 'city1', 'Su...   \n",
       "5,10,10-2    5503.321218  {'Operation1': {'Sub-operation1': 'city2', 'Su...   \n",
       "5,10,10-3     5849.87106  {'Operation1': {'Sub-operation1': 'city2', 'Su...   \n",
       "5,5,5-1      2576.598208  {'Operation1': {'Sub-operation3': 'city1', 'Su...   \n",
       "5,5,5-2      5425.946189  {'Operation1': {'Sub-operation1': 'city4', 'Su...   \n",
       "5,5,5-3      6149.624015  {'Operation1': {'Sub-operation1': 'city4', 'Su...   \n",
       "10,10,10-1   9761.358987  {'Operation1': {'Sub-operation3': 'city1', 'Su...   \n",
       "10,10,10-2  10921.079954  {'Operation1': {'Sub-operation1': 'city2', 'Su...   \n",
       "10,10,10-3  11187.172451  {'Operation1': {'Sub-operation1': 'city2', 'Su...   \n",
       "5,10,20-1    3548.963825  {'Operation1': {'Sub-operation3': 'city1', 'Su...   \n",
       "5,10,20-2    4524.805988  {'Operation1': {'Sub-operation1': 'city13', 'S...   \n",
       "5,10,20-3    4955.329235  {'Operation1': {'Sub-operation1': 'city11', 'S...   \n",
       "5,20,10-1   10687.468451  {'Operation1': {'Sub-operation3': 'city7', 'Su...   \n",
       "5,20,10-2   12147.769571  {'Operation1': {'Sub-operation1': 'city7', 'Su...   \n",
       "5,20,10-3   12960.070144  {'Operation1': {'Sub-operation1': 'city7', 'Su...   \n",
       "5,20,20-1    9059.334441  {'Operation1': {'Sub-operation3': 'city1', 'Su...   \n",
       "5,20,20-2   10438.297954  {'Operation1': {'Sub-operation1': 'city16', 'S...   \n",
       "5,20,20-3   11396.639606  {'Operation1': {'Sub-operation1': 'city15', 'S...   \n",
       "\n",
       "                time  \n",
       "example     0.005386  \n",
       "5,10,10-1   0.002185  \n",
       "5,10,10-2   0.002676  \n",
       "5,10,10-3   0.003134  \n",
       "5,5,5-1     0.000993  \n",
       "5,5,5-2      0.00199  \n",
       "5,5,5-3     0.001098  \n",
       "10,10,10-1  0.005155  \n",
       "10,10,10-2  0.005167  \n",
       "10,10,10-3  0.005743  \n",
       "5,10,20-1    0.00494  \n",
       "5,10,20-2   0.006967  \n",
       "5,10,20-3   0.007686  \n",
       "5,20,10-1   0.004654  \n",
       "5,20,10-2   0.004862  \n",
       "5,20,10-3   0.005181  \n",
       "5,20,20-1   0.011303  \n",
       "5,20,20-2   0.013617  \n",
       "5,20,20-3   0.014707  "
      ]
     },
     "execution_count": 8,
     "metadata": {},
     "output_type": "execute_result"
    }
   ],
   "source": [
    "df_result = pd.DataFrame(solutions).T\n",
    "df_result"
   ]
  },
  {
   "cell_type": "code",
   "execution_count": 10,
   "metadata": {},
   "outputs": [],
   "source": [
    "df_result.to_csv(\"../data/solutions/dp.csv\", index=True)"
   ]
  },
  {
   "cell_type": "code",
   "execution_count": null,
   "metadata": {},
   "outputs": [],
   "source": []
  }
 ],
 "metadata": {
  "kernelspec": {
   "display_name": ".venv",
   "language": "python",
   "name": "python3"
  },
  "language_info": {
   "codemirror_mode": {
    "name": "ipython",
    "version": 3
   },
   "file_extension": ".py",
   "mimetype": "text/x-python",
   "name": "python",
   "nbconvert_exporter": "python",
   "pygments_lexer": "ipython3",
   "version": "3.10.12"
  }
 },
 "nbformat": 4,
 "nbformat_minor": 2
}
